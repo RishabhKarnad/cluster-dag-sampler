{
 "cells": [
  {
   "cell_type": "code",
   "execution_count": 1,
   "metadata": {},
   "outputs": [],
   "source": [
    "import igraph as ig\n",
    "import matplotlib.pyplot as plt\n",
    "from utils.c_dag import unstringify_cdag, stringify_cdag"
   ]
  },
  {
   "cell_type": "code",
   "execution_count": 2,
   "metadata": {},
   "outputs": [],
   "source": [
    "graphs = ['0,2-1,5-3,6-4-7:0,1,1,0,0,0,0,1,0,0,0,0,0,0,0,1,0,0,0,1,0,1,0,0,0', '0,2-1,5-3,6-4-7:0,0,1,0,0,0,0,1,0,0,0,0,0,0,0,1,1,0,0,1,1,1,0,0,0', '0,2-1,5-3,6-4-7:0,1,1,0,0,0,0,1,0,0,0,0,0,0,0,0,0,0,0,0,1,1,0,0,0', '0,2-1,5-3,6-4-7:0,1,1,0,0,0,0,1,0,0,0,0,0,0,0,0,0,0,0,0,1,0,0,0,0', '0,2-1,5-3,6-4-7:0,0,1,0,0,0,0,1,0,0,0,0,0,0,0,1,0,0,0,0,1,1,0,0,0']"
   ]
  },
  {
   "cell_type": "code",
   "execution_count": 5,
   "metadata": {},
   "outputs": [],
   "source": [
    "graphs = ['0-1,2-3:0,1,0,0,0,0,0,1,0', '0-1,2-3:0,1,0,0,0,0,0,0,0', '0-1,2-3:0,1,1,0,0,0,0,0,0', '0-1,2-3:0,1,1,0,0,0,0,1,0', '0-1,2-3:0,1,0,0,0,0,1,1,0']"
   ]
  },
  {
   "cell_type": "code",
   "execution_count": 14,
   "metadata": {},
   "outputs": [],
   "source": [
    "graphs = ['0,2,3,4-1:0,0,1,0', '0,2,3,4-1:0,0,0,0', '0,1,3,4-2:0,0,1,0', '0-1,3,4-2:0,0,0,1,0,0,1,1,0', '0,1,3,4-2:0,0,0,0']"
   ]
  },
  {
   "cell_type": "code",
   "execution_count": 15,
   "metadata": {},
   "outputs": [],
   "source": [
    "graphs = [unstringify_cdag(g) for g in graphs]"
   ]
  },
  {
   "cell_type": "code",
   "execution_count": 16,
   "metadata": {},
   "outputs": [
    {
     "data": {
      "text/plain": [
       "[([{0, 2, 3, 4}, {1}],\n",
       "  array([[0, 0],\n",
       "         [1, 0]])),\n",
       " ([{0, 2, 3, 4}, {1}],\n",
       "  array([[0, 0],\n",
       "         [0, 0]])),\n",
       " ([{0, 1, 3, 4}, {2}],\n",
       "  array([[0, 0],\n",
       "         [1, 0]])),\n",
       " ([{0}, {1, 3, 4}, {2}],\n",
       "  array([[0, 0, 0],\n",
       "         [1, 0, 0],\n",
       "         [1, 1, 0]])),\n",
       " ([{0, 1, 3, 4}, {2}],\n",
       "  array([[0, 0],\n",
       "         [0, 0]]))]"
      ]
     },
     "execution_count": 16,
     "metadata": {},
     "output_type": "execute_result"
    }
   ],
   "source": [
    "graphs"
   ]
  },
  {
   "cell_type": "code",
   "execution_count": 21,
   "metadata": {},
   "outputs": [],
   "source": [
    "def plot_graph(g):\n",
    "    c = g[0]\n",
    "    # c = list(map(\n",
    "    #         lambda x: ', '.join(list(map(lambda y: r'$X_{y}$', list(x)))),\n",
    "    #         g[0]))\n",
    "    print(c)\n",
    "    graphstring = stringify_cdag(g)\n",
    "    g = ig.Graph.Adjacency(g[1].tolist())\n",
    "    plot = ig.plot(g,\n",
    "        f'{graphstring}.png',\n",
    "        vertex_size=75,\n",
    "        # vertex_color=['blue', 'red', 'green', 'yellow'],\n",
    "        vertex_color='grey',\n",
    "        vertex_label=c,\n",
    "        # edge_width=[1, 4],\n",
    "        # edge_color=['black', 'grey'],\n",
    "        # directed=True,\n",
    "        layout='circle',\n",
    "        bbox=(0, 0, 300, 300),\n",
    "        margin=50)"
   ]
  },
  {
   "cell_type": "code",
   "execution_count": 22,
   "metadata": {},
   "outputs": [
    {
     "name": "stdout",
     "output_type": "stream",
     "text": [
      "[{0, 2, 3, 4}, {1}]\n",
      "[{0, 2, 3, 4}, {1}]\n",
      "[{0, 1, 3, 4}, {2}]\n",
      "[{0}, {1, 3, 4}, {2}]\n",
      "[{0, 1, 3, 4}, {2}]\n"
     ]
    }
   ],
   "source": [
    "for g in graphs:\n",
    "    plot_graph(g)"
   ]
  },
  {
   "cell_type": "code",
   "execution_count": 20,
   "metadata": {},
   "outputs": [
    {
     "name": "stdout",
     "output_type": "stream",
     "text": [
      "[]\n"
     ]
    },
    {
     "ename": "KeyboardInterrupt",
     "evalue": "",
     "output_type": "error",
     "traceback": [
      "\u001b[0;31m---------------------------------------------------------------------------\u001b[0m",
      "\u001b[0;31mKeyboardInterrupt\u001b[0m                         Traceback (most recent call last)",
      "Cell \u001b[0;32mIn[20], line 5\u001b[0m\n\u001b[1;32m      3\u001b[0m graphstring \u001b[39m=\u001b[39m stringify_cdag(g)\n\u001b[1;32m      4\u001b[0m g \u001b[39m=\u001b[39m ig\u001b[39m.\u001b[39mGraph\u001b[39m.\u001b[39mAdjacency(g[\u001b[39m1\u001b[39m]\u001b[39m.\u001b[39mtolist())\n\u001b[0;32m----> 5\u001b[0m plot \u001b[39m=\u001b[39m ig\u001b[39m.\u001b[39;49mplot(g,\n\u001b[1;32m      6\u001b[0m     \u001b[39mf\u001b[39;49m\u001b[39m'\u001b[39;49m\u001b[39m{\u001b[39;49;00mgraphstring\u001b[39m}\u001b[39;49;00m\u001b[39m.png\u001b[39;49m\u001b[39m'\u001b[39;49m,\n\u001b[1;32m      7\u001b[0m     vertex_size\u001b[39m=\u001b[39;49m\u001b[39m75\u001b[39;49m,\n\u001b[1;32m      8\u001b[0m     \u001b[39m# vertex_color=['blue', 'red', 'green', 'yellow'],\u001b[39;49;00m\n\u001b[1;32m      9\u001b[0m     vertex_color\u001b[39m=\u001b[39;49m\u001b[39m'\u001b[39;49m\u001b[39mgrey\u001b[39;49m\u001b[39m'\u001b[39;49m,\n\u001b[1;32m     10\u001b[0m     vertex_label\u001b[39m=\u001b[39;49mc,\n\u001b[1;32m     11\u001b[0m     \u001b[39m# edge_width=[1, 4],\u001b[39;49;00m\n\u001b[1;32m     12\u001b[0m     \u001b[39m# edge_color=['black', 'grey'],\u001b[39;49;00m\n\u001b[1;32m     13\u001b[0m     \u001b[39m# directed=True,\u001b[39;49;00m\n\u001b[1;32m     14\u001b[0m     layout\u001b[39m=\u001b[39;49m\u001b[39m'\u001b[39;49m\u001b[39mcircle\u001b[39;49m\u001b[39m'\u001b[39;49m,\n\u001b[1;32m     15\u001b[0m     bbox\u001b[39m=\u001b[39;49m(\u001b[39m0\u001b[39;49m, \u001b[39m0\u001b[39;49m, \u001b[39m300\u001b[39;49m, \u001b[39m300\u001b[39;49m))\n",
      "File \u001b[0;32m~/miniconda3/envs/mcmc/lib/python3.10/site-packages/igraph/drawing/__init__.py:304\u001b[0m, in \u001b[0;36mplot\u001b[0;34m(obj, target, bbox, *args, **kwds)\u001b[0m\n\u001b[1;32m    299\u001b[0m \u001b[39m# We are either not in IPython or the user specified an explicit plot target,\u001b[39;00m\n\u001b[1;32m    300\u001b[0m \u001b[39m# so just show or save the result\u001b[39;00m\n\u001b[1;32m    302\u001b[0m \u001b[39mif\u001b[39;00m \u001b[39misinstance\u001b[39m(target, (\u001b[39mstr\u001b[39m, Path)):\n\u001b[1;32m    303\u001b[0m     \u001b[39m# save\u001b[39;00m\n\u001b[0;32m--> 304\u001b[0m     result\u001b[39m.\u001b[39;49msave()\n\u001b[1;32m    306\u001b[0m \u001b[39m# Also return the plot itself\u001b[39;00m\n\u001b[1;32m    307\u001b[0m \u001b[39mreturn\u001b[39;00m result\n",
      "File \u001b[0;32m~/miniconda3/envs/mcmc/lib/python3.10/site-packages/igraph/drawing/cairo/plot.py:299\u001b[0m, in \u001b[0;36mCairoPlot.save\u001b[0;34m(self, fname)\u001b[0m\n\u001b[1;32m    293\u001b[0m \u001b[39m\u001b[39m\u001b[39m\"\"\"Saves the plot.\u001b[39;00m\n\u001b[1;32m    294\u001b[0m \n\u001b[1;32m    295\u001b[0m \u001b[39m@param fname: the filename to save to. It is ignored if the surface\u001b[39;00m\n\u001b[1;32m    296\u001b[0m \u001b[39m  of the plot is not an C{ImageSurface}.\u001b[39;00m\n\u001b[1;32m    297\u001b[0m \u001b[39m\"\"\"\u001b[39;00m\n\u001b[1;32m    298\u001b[0m \u001b[39mif\u001b[39;00m \u001b[39mself\u001b[39m\u001b[39m.\u001b[39m_is_dirty:\n\u001b[0;32m--> 299\u001b[0m     \u001b[39mself\u001b[39;49m\u001b[39m.\u001b[39;49mredraw()\n\u001b[1;32m    300\u001b[0m \u001b[39mif\u001b[39;00m \u001b[39misinstance\u001b[39m(\u001b[39mself\u001b[39m\u001b[39m.\u001b[39m_surface, cairo\u001b[39m.\u001b[39mImageSurface):\n\u001b[1;32m    301\u001b[0m     \u001b[39mif\u001b[39;00m fname \u001b[39mis\u001b[39;00m \u001b[39mNone\u001b[39;00m \u001b[39mand\u001b[39;00m \u001b[39mself\u001b[39m\u001b[39m.\u001b[39m_need_tmpfile:\n",
      "File \u001b[0;32m~/miniconda3/envs/mcmc/lib/python3.10/site-packages/igraph/drawing/cairo/plot.py:283\u001b[0m, in \u001b[0;36mCairoPlot.redraw\u001b[0;34m(self, context)\u001b[0m\n\u001b[1;32m    281\u001b[0m \u001b[39melse\u001b[39;00m:\n\u001b[1;32m    282\u001b[0m     ctx\u001b[39m.\u001b[39msave()\n\u001b[0;32m--> 283\u001b[0m plotter(\u001b[39m\"\u001b[39;49m\u001b[39mcairo\u001b[39;49m\u001b[39m\"\u001b[39;49m, ctx, bbox\u001b[39m=\u001b[39;49mbbox, palette\u001b[39m=\u001b[39;49mpalette, \u001b[39m*\u001b[39;49margs, \u001b[39m*\u001b[39;49m\u001b[39m*\u001b[39;49mkwds)\n\u001b[1;32m    284\u001b[0m \u001b[39mif\u001b[39;00m opacity \u001b[39m<\u001b[39m \u001b[39m1.0\u001b[39m:\n\u001b[1;32m    285\u001b[0m     ctx\u001b[39m.\u001b[39mpop_group_to_source()\n",
      "File \u001b[0;32m~/miniconda3/envs/mcmc/lib/python3.10/site-packages/igraph/drawing/graph.py:558\u001b[0m, in \u001b[0;36m__plot__\u001b[0;34m(self, backend, context, *args, **kwds)\u001b[0m\n\u001b[1;32m    552\u001b[0m \u001b[39mfrom\u001b[39;00m \u001b[39migraph\u001b[39;00m\u001b[39m.\u001b[39;00m\u001b[39mdrawing\u001b[39;00m \u001b[39mimport\u001b[39;00m DrawerDirectory\n\u001b[1;32m    554\u001b[0m drawer \u001b[39m=\u001b[39m kwds\u001b[39m.\u001b[39mpop(\n\u001b[1;32m    555\u001b[0m     \u001b[39m\"\u001b[39m\u001b[39mdrawer_factory\u001b[39m\u001b[39m\"\u001b[39m,\n\u001b[1;32m    556\u001b[0m     DrawerDirectory\u001b[39m.\u001b[39mresolve(\u001b[39mself\u001b[39m, backend)(context),\n\u001b[1;32m    557\u001b[0m )\n\u001b[0;32m--> 558\u001b[0m drawer\u001b[39m.\u001b[39;49mdraw(\u001b[39mself\u001b[39;49m, \u001b[39m*\u001b[39;49margs, \u001b[39m*\u001b[39;49m\u001b[39m*\u001b[39;49mkwds)\n",
      "File \u001b[0;32m~/miniconda3/envs/mcmc/lib/python3.10/site-packages/igraph/drawing/cairo/graph.py:179\u001b[0m, in \u001b[0;36mCairoGraphDrawer.draw\u001b[0;34m(self, graph, *args, **kwds)\u001b[0m\n\u001b[1;32m    175\u001b[0m label_drawer \u001b[39m=\u001b[39m \u001b[39mself\u001b[39m\u001b[39m.\u001b[39mlabel_drawer_factory(context)\n\u001b[1;32m    177\u001b[0m \u001b[39m# Construct the visual vertex/edge builders based on the specifications\u001b[39;00m\n\u001b[1;32m    178\u001b[0m \u001b[39m# provided by the vertex_drawer and the edge_drawer\u001b[39;00m\n\u001b[0;32m--> 179\u001b[0m vertex_builder \u001b[39m=\u001b[39m vertex_drawer\u001b[39m.\u001b[39;49mVisualVertexBuilder(graph\u001b[39m.\u001b[39;49mvs, kwds)\n\u001b[1;32m    180\u001b[0m edge_builder \u001b[39m=\u001b[39m edge_drawer\u001b[39m.\u001b[39mVisualEdgeBuilder(graph\u001b[39m.\u001b[39mes, kwds)\n\u001b[1;32m    182\u001b[0m \u001b[39m# Determine the order in which we will draw the vertices and edges\u001b[39;00m\n",
      "File \u001b[0;32m~/miniconda3/envs/mcmc/lib/python3.10/site-packages/igraph/drawing/metamagic.py:219\u001b[0m, in \u001b[0;36mAttributeCollectorBase.__init__\u001b[0;34m(self, seq, kwds)\u001b[0m\n\u001b[1;32m    216\u001b[0m \u001b[39mself\u001b[39m\u001b[39m.\u001b[39mkwds \u001b[39m=\u001b[39m kwds \u001b[39mor\u001b[39;00m {}\n\u001b[1;32m    218\u001b[0m \u001b[39mfor\u001b[39;00m attr_spec \u001b[39min\u001b[39;00m \u001b[39mself\u001b[39m\u001b[39m.\u001b[39m_attributes:\n\u001b[0;32m--> 219\u001b[0m     values \u001b[39m=\u001b[39m \u001b[39mself\u001b[39;49m\u001b[39m.\u001b[39;49m_collect_attributes(attr_spec)\n\u001b[1;32m    220\u001b[0m     attr_name \u001b[39m=\u001b[39m attr_spec\u001b[39m.\u001b[39mname\n\u001b[1;32m    221\u001b[0m     \u001b[39mfor\u001b[39;00m cache_elt, val \u001b[39min\u001b[39;00m \u001b[39mzip\u001b[39m(\u001b[39mself\u001b[39m\u001b[39m.\u001b[39m_cache, values):\n",
      "File \u001b[0;32m~/miniconda3/envs/mcmc/lib/python3.10/site-packages/igraph/drawing/metamagic.py:312\u001b[0m, in \u001b[0;36mAttributeCollectorBase._collect_attributes\u001b[0;34m(self, attr_spec, config)\u001b[0m\n\u001b[1;32m    309\u001b[0m     result \u001b[39m=\u001b[39m \u001b[39mlist\u001b[39m(result)\n\u001b[1;32m    311\u001b[0m \u001b[39m# Ensure that the length is n\u001b[39;00m\n\u001b[0;32m--> 312\u001b[0m \u001b[39mwhile\u001b[39;00m \u001b[39mlen\u001b[39;49m(result) \u001b[39m<\u001b[39m n:\n\u001b[1;32m    313\u001b[0m     \u001b[39mif\u001b[39;00m \u001b[39mlen\u001b[39m(result) \u001b[39m<\u001b[39m\u001b[39m=\u001b[39m n \u001b[39m/\u001b[39m \u001b[39m2\u001b[39m:\n\u001b[1;32m    314\u001b[0m         result\u001b[39m.\u001b[39mextend(result)\n",
      "\u001b[0;31mKeyboardInterrupt\u001b[0m: "
     ]
    }
   ],
   "source": [
    "c = []\n",
    "print(c)\n",
    "graphstring = stringify_cdag(g)\n",
    "g = ig.Graph.Adjacency(g[1].tolist())\n",
    "plot = ig.plot(g,\n",
    "    f'{graphstring}.png',\n",
    "    vertex_size=75,\n",
    "    # vertex_color=['blue', 'red', 'green', 'yellow'],\n",
    "    vertex_color='grey',\n",
    "    vertex_label=c,\n",
    "    # edge_width=[1, 4],\n",
    "    # edge_color=['black', 'grey'],\n",
    "    # directed=True,\n",
    "    layout='circle',\n",
    "    bbox=(0, 0, 300, 300))"
   ]
  },
  {
   "cell_type": "code",
   "execution_count": null,
   "metadata": {},
   "outputs": [],
   "source": []
  }
 ],
 "metadata": {
  "kernelspec": {
   "display_name": "mcmc",
   "language": "python",
   "name": "python3"
  },
  "language_info": {
   "codemirror_mode": {
    "name": "ipython",
    "version": 3
   },
   "file_extension": ".py",
   "mimetype": "text/x-python",
   "name": "python",
   "nbconvert_exporter": "python",
   "pygments_lexer": "ipython3",
   "version": "3.10.11"
  },
  "orig_nbformat": 4
 },
 "nbformat": 4,
 "nbformat_minor": 2
}
