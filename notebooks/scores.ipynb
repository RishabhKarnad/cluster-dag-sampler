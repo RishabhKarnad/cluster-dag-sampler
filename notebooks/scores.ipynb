{
 "cells": [
  {
   "cell_type": "code",
   "execution_count": 1,
   "metadata": {},
   "outputs": [],
   "source": [
    "import numpy as np\n",
    "from models.bernoulli import MultivariateBernoulliDistribution\n",
    "from data import generate_data_discrete_4\n",
    "from scores.cic_score import ScoreCIC"
   ]
  },
  {
   "cell_type": "markdown",
   "metadata": {},
   "source": [
    "<img src=\"./images/graph.png\">"
   ]
  },
  {
   "cell_type": "code",
   "execution_count": 2,
   "metadata": {},
   "outputs": [],
   "source": [
    "data, _ = generate_data_discrete_4()"
   ]
  },
  {
   "cell_type": "code",
   "execution_count": 3,
   "metadata": {},
   "outputs": [],
   "source": [
    "score = ScoreCIC(data=data, dist=MultivariateBernoulliDistribution)"
   ]
  },
  {
   "cell_type": "code",
   "execution_count": 4,
   "metadata": {},
   "outputs": [
    {
     "data": {
      "text/plain": [
       "223.43565588143952"
      ]
     },
     "execution_count": 4,
     "metadata": {},
     "output_type": "execute_result"
    }
   ],
   "source": [
    "score(([{0, 1}, {2}, {3}], np.array([[0, 1, 0], [0, 0, 1], [0, 0, 0]])))"
   ]
  },
  {
   "cell_type": "code",
   "execution_count": 5,
   "metadata": {},
   "outputs": [
    {
     "data": {
      "text/plain": [
       "632.0398551187897"
      ]
     },
     "execution_count": 5,
     "metadata": {},
     "output_type": "execute_result"
    }
   ],
   "source": [
    "score(([{0, 1}, {2, 3}], np.array([[0, 1], [0, 0]])))"
   ]
  },
  {
   "cell_type": "code",
   "execution_count": 6,
   "metadata": {},
   "outputs": [
    {
     "data": {
      "text/plain": [
       "629.3189063915705"
      ]
     },
     "execution_count": 6,
     "metadata": {},
     "output_type": "execute_result"
    }
   ],
   "source": [
    "score(([{0}, {1, 2, 3}], np.array([[0, 1], [0, 0]])))"
   ]
  },
  {
   "cell_type": "code",
   "execution_count": 7,
   "metadata": {},
   "outputs": [
    {
     "data": {
      "text/plain": [
       "629.5042087067576"
      ]
     },
     "execution_count": 7,
     "metadata": {},
     "output_type": "execute_result"
    }
   ],
   "source": [
    "score(([{1}, {0, 2, 3}], np.array([[0, 1], [0, 0]])))"
   ]
  },
  {
   "cell_type": "code",
   "execution_count": 8,
   "metadata": {},
   "outputs": [
    {
     "data": {
      "text/plain": [
       "629.5042087067576"
      ]
     },
     "execution_count": 8,
     "metadata": {},
     "output_type": "execute_result"
    }
   ],
   "source": [
    "score(([{1}, {0, 2, 3}], np.array([[0, 0], [1, 0]])))"
   ]
  },
  {
   "cell_type": "code",
   "execution_count": 9,
   "metadata": {},
   "outputs": [
    {
     "data": {
      "text/plain": [
       "224.6400087421088"
      ]
     },
     "execution_count": 9,
     "metadata": {},
     "output_type": "execute_result"
    }
   ],
   "source": [
    "score(([{0}, {1}, {2}, {3}], np.array([[0, 0, 1, 0], [0, 0, 1, 0], [0, 0, 0, 1], [0, 0, 0, 0]])))"
   ]
  },
  {
   "cell_type": "code",
   "execution_count": 10,
   "metadata": {},
   "outputs": [],
   "source": [
    "from models.cdag_distribution import CDAGJointDistribution"
   ]
  },
  {
   "cell_type": "code",
   "execution_count": 11,
   "metadata": {},
   "outputs": [],
   "source": [
    "from scores.bayesian_cdag_score import BayesianCDAGScore"
   ]
  },
  {
   "cell_type": "code",
   "execution_count": 12,
   "metadata": {},
   "outputs": [],
   "source": [
    "from data import generate_data_continuous_5"
   ]
  },
  {
   "cell_type": "code",
   "execution_count": 13,
   "metadata": {},
   "outputs": [],
   "source": [
    "import networkx as nx"
   ]
  },
  {
   "cell_type": "code",
   "execution_count": 14,
   "metadata": {},
   "outputs": [],
   "source": [
    "from pgmpy.models import LinearGaussianBayesianNetwork\n",
    "from pgmpy.factors.continuous import LinearGaussianCPD"
   ]
  },
  {
   "cell_type": "code",
   "execution_count": 15,
   "metadata": {},
   "outputs": [],
   "source": [
    "import jax.numpy as jnp"
   ]
  },
  {
   "cell_type": "code",
   "execution_count": 16,
   "metadata": {},
   "outputs": [],
   "source": [
    "data_continuous, (g_true, theta_true) = generate_data_continuous_5(1000)"
   ]
  },
  {
   "cell_type": "code",
   "execution_count": 17,
   "metadata": {},
   "outputs": [],
   "source": [
    "lgbn = nx.from_numpy_array(\n",
    "    g_true, create_using=LinearGaussianBayesianNetwork)\n",
    "G = nx.from_numpy_array(g_true, create_using=nx.MultiDiGraph())\n",
    "obs_noise = 0.1\n",
    "factors = []\n",
    "for node in lgbn.nodes:\n",
    "    parents = list(G.predecessors(node))\n",
    "    if parents:\n",
    "        theta_ = [0.0]\n",
    "        theta_ += theta_true[jnp.array(parents), node].tolist()\n",
    "        factor = LinearGaussianCPD(node, theta_, obs_noise, parents)\n",
    "    else:\n",
    "        factor = LinearGaussianCPD(node, [0.0], obs_noise, parents)\n",
    "    factors.append(factor)\n",
    "\n",
    "lgbn.add_cpds(*factors)\n",
    "joint_dist = lgbn.to_joint_gaussian()\n",
    "Cov_true = joint_dist.covariance"
   ]
  },
  {
   "cell_type": "code",
   "execution_count": 18,
   "metadata": {},
   "outputs": [
    {
     "data": {
      "text/plain": [
       "array([[0., 1., 1., 0., 0.],\n",
       "       [0., 0., 1., 1., 0.],\n",
       "       [0., 0., 0., 0., 0.],\n",
       "       [0., 0., 0., 0., 1.],\n",
       "       [0., 0., 0., 0., 0.]])"
      ]
     },
     "execution_count": 18,
     "metadata": {},
     "output_type": "execute_result"
    }
   ],
   "source": [
    "g_true"
   ]
  },
  {
   "cell_type": "code",
   "execution_count": 19,
   "metadata": {},
   "outputs": [
    {
     "data": {
      "text/plain": [
       "Array(-21596752., dtype=float32)"
      ]
     },
     "execution_count": 19,
     "metadata": {},
     "output_type": "execute_result"
    }
   ],
   "source": [
    "BayesianCDAGScore(data_continuous, theta_true, Cov_true, 2, 3, 3)(([{0, 1, 2}, {3}, {4}], np.array([[0, 1, 1], [0, 0, 1], [0, 0, 0]])))"
   ]
  },
  {
   "cell_type": "code",
   "execution_count": 20,
   "metadata": {},
   "outputs": [
    {
     "data": {
      "text/plain": [
       "Array(-23192762., dtype=float32)"
      ]
     },
     "execution_count": 20,
     "metadata": {},
     "output_type": "execute_result"
    }
   ],
   "source": [
    "BayesianCDAGScore(data_continuous, theta_true, Cov_true, 2, 3, 3)(([{0, 1, 2}, {3}, {4}], np.array([[0, 1, 1], [0, 0, 0], [0, 0, 0]])))"
   ]
  },
  {
   "cell_type": "code",
   "execution_count": 21,
   "metadata": {},
   "outputs": [
    {
     "data": {
      "text/plain": [
       "Array(-2359.828, dtype=float32)"
      ]
     },
     "execution_count": 21,
     "metadata": {},
     "output_type": "execute_result"
    }
   ],
   "source": [
    "# true\n",
    "BayesianCDAGScore(data_continuous, theta_true, Cov_true, 2, 3, 3)(([{0, 1, 2}, {3}, {4}], np.array([[0, 1, 0], [0, 0, 1], [0, 0, 0]])))"
   ]
  },
  {
   "cell_type": "code",
   "execution_count": 22,
   "metadata": {},
   "outputs": [
    {
     "data": {
      "text/plain": [
       "Array(-42936.227, dtype=float32)"
      ]
     },
     "execution_count": 22,
     "metadata": {},
     "output_type": "execute_result"
    }
   ],
   "source": [
    "BayesianCDAGScore(data_continuous, theta_true, Cov_true, 2, 3, 3)(([{0, 1, 2}, {3}, {4}], np.array([[0, 1, 0], [0, 0, 0], [0, 0, 0]])))"
   ]
  },
  {
   "cell_type": "code",
   "execution_count": 23,
   "metadata": {},
   "outputs": [
    {
     "data": {
      "text/plain": [
       "Array(-21600776., dtype=float32)"
      ]
     },
     "execution_count": 23,
     "metadata": {},
     "output_type": "execute_result"
    }
   ],
   "source": [
    "BayesianCDAGScore(data_continuous, theta_true, Cov_true, 2, 3, 3)(([{0, 1, 2}, {3}, {4}], np.array([[0, 0, 1], [0, 0, 1], [0, 0, 0]])))\n"
   ]
  },
  {
   "cell_type": "code",
   "execution_count": 24,
   "metadata": {},
   "outputs": [
    {
     "data": {
      "text/plain": [
       "Array(-23196790., dtype=float32)"
      ]
     },
     "execution_count": 24,
     "metadata": {},
     "output_type": "execute_result"
    }
   ],
   "source": [
    "BayesianCDAGScore(data_continuous, theta_true, Cov_true, 2, 3, 3)(([{0, 1, 2}, {3}, {4}], np.array([[0, 0, 1], [0, 0, 0], [0, 0, 0]])))"
   ]
  },
  {
   "cell_type": "code",
   "execution_count": 25,
   "metadata": {},
   "outputs": [
    {
     "data": {
      "text/plain": [
       "Array(-6386.58, dtype=float32)"
      ]
     },
     "execution_count": 25,
     "metadata": {},
     "output_type": "execute_result"
    }
   ],
   "source": [
    "BayesianCDAGScore(data_continuous, theta_true, Cov_true, 2, 3, 3)(([{0, 1, 2}, {3}, {4}], np.array([[0, 0, 0], [0, 0, 1], [0, 0, 0]])))"
   ]
  },
  {
   "cell_type": "code",
   "execution_count": 26,
   "metadata": {},
   "outputs": [
    {
     "data": {
      "text/plain": [
       "Array(-46962.977, dtype=float32)"
      ]
     },
     "execution_count": 26,
     "metadata": {},
     "output_type": "execute_result"
    }
   ],
   "source": [
    "BayesianCDAGScore(data_continuous, theta_true, Cov_true, 2, 3, 3)(([{0, 1, 2}, {3}, {4}], np.array([[0, 0, 0], [0, 0, 0], [0, 0, 0]])))"
   ]
  },
  {
   "cell_type": "code",
   "execution_count": 27,
   "metadata": {},
   "outputs": [
    {
     "data": {
      "text/plain": [
       "Array(-92610344., dtype=float32)"
      ]
     },
     "execution_count": 27,
     "metadata": {},
     "output_type": "execute_result"
    }
   ],
   "source": [
    "BayesianCDAGScore(data_continuous, theta_true, Cov_true, 2, 3, 3)(([{0, 1, 3}, {2, 4}], np.array([[0, 1], [0, 0]])))"
   ]
  },
  {
   "cell_type": "code",
   "execution_count": 28,
   "metadata": {},
   "outputs": [
    {
     "data": {
      "text/plain": [
       "Array(-42936.227, dtype=float32)"
      ]
     },
     "execution_count": 28,
     "metadata": {},
     "output_type": "execute_result"
    }
   ],
   "source": [
    "BayesianCDAGScore(data_continuous, theta_true, Cov_true, 2, 3, 3)(([{0, 1}, {3}, {2, 4}], np.array([[0, 1, 0], [0, 0, 0], [0, 0, 0]])))"
   ]
  },
  {
   "cell_type": "code",
   "execution_count": null,
   "metadata": {},
   "outputs": [],
   "source": []
  }
 ],
 "metadata": {
  "kernelspec": {
   "display_name": "mcmc",
   "language": "python",
   "name": "python3"
  },
  "language_info": {
   "codemirror_mode": {
    "name": "ipython",
    "version": 3
   },
   "file_extension": ".py",
   "mimetype": "text/x-python",
   "name": "python",
   "nbconvert_exporter": "python",
   "pygments_lexer": "ipython3",
   "version": "3.10.13"
  },
  "orig_nbformat": 4
 },
 "nbformat": 4,
 "nbformat_minor": 2
}
