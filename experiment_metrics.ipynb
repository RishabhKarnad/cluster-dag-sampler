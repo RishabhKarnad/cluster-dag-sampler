{
 "cells": [
  {
   "cell_type": "code",
   "execution_count": 1,
   "metadata": {},
   "outputs": [],
   "source": [
    "import jax.random as random\n",
    "import numpy as np\n",
    "import jax.numpy as jnp"
   ]
  },
  {
   "cell_type": "code",
   "execution_count": 2,
   "metadata": {},
   "outputs": [],
   "source": [
    "import os"
   ]
  },
  {
   "cell_type": "code",
   "execution_count": 3,
   "metadata": {},
   "outputs": [],
   "source": [
    "os.environ['CUDA_VISIBLE_DEVICES'] = ''"
   ]
  },
  {
   "cell_type": "code",
   "execution_count": 4,
   "metadata": {},
   "outputs": [],
   "source": [
    "from scores.cic_score import ScoreCIC\n",
    "from models.gaussian import GaussianDistribution"
   ]
  },
  {
   "cell_type": "code",
   "execution_count": 5,
   "metadata": {},
   "outputs": [
    {
     "name": "stderr",
     "output_type": "stream",
     "text": [
      "2024-02-10 17:06:48.493604: E external/xla/xla/stream_executor/cuda/cuda_driver.cc:268] failed call to cuInit: CUDA_ERROR_NO_DEVICE: no CUDA-capable device is detected\n",
      "No GPU/TPU found, falling back to CPU. (Set TF_CPP_MIN_LOG_LEVEL=0 and rerun for more info.)\n"
     ]
    }
   ],
   "source": [
    "from data.loader import DataGen"
   ]
  },
  {
   "cell_type": "markdown",
   "metadata": {},
   "source": [
    "### 7 variable"
   ]
  },
  {
   "cell_type": "code",
   "execution_count": 6,
   "metadata": {},
   "outputs": [],
   "source": [
    "data, scm = DataGen(0.1).generate_group_scm_data(n_samples=1000)"
   ]
  },
  {
   "cell_type": "code",
   "execution_count": 7,
   "metadata": {},
   "outputs": [],
   "source": [
    "scoreCIC = ScoreCIC(data=data, dist=GaussianDistribution)"
   ]
  },
  {
   "cell_type": "code",
   "execution_count": 8,
   "metadata": {},
   "outputs": [
    {
     "data": {
      "text/plain": [
       "(48393.44810584256, 54080.923152597694)"
      ]
     },
     "execution_count": 8,
     "metadata": {},
     "output_type": "execute_result"
    }
   ],
   "source": [
    "G_true = ([{0, 1, 2}, {3, 4}, {5, 6}], np.array([[0, 1, 0],\n",
    "                                                 [0, 0, 0],\n",
    "                                                 [0, 1, 0]]))\n",
    "G_baseline = ([{0, 1, 2, 3, 4}, {5}, {6}], np.array([[0., 0., 0.],\n",
    "                                                     [1., 0., 0.],\n",
    "                                                     [1., 1., 0.]]))\n",
    "scoreCIC(G_true), scoreCIC(G_baseline)"
   ]
  },
  {
   "cell_type": "markdown",
   "metadata": {},
   "source": [
    "### 4 variable"
   ]
  },
  {
   "cell_type": "code",
   "execution_count": 9,
   "metadata": {},
   "outputs": [],
   "source": [
    "data, scm = DataGen(0.1).generate_group_scm_data_small_dag_4vars(n_samples=1000)"
   ]
  },
  {
   "cell_type": "code",
   "execution_count": 10,
   "metadata": {},
   "outputs": [],
   "source": [
    "scoreCIC = ScoreCIC(data=data, dist=GaussianDistribution)"
   ]
  },
  {
   "cell_type": "code",
   "execution_count": 11,
   "metadata": {},
   "outputs": [
    {
     "data": {
      "text/plain": [
       "(14054.387202813721, 22234.82896959453)"
      ]
     },
     "execution_count": 11,
     "metadata": {},
     "output_type": "execute_result"
    }
   ],
   "source": [
    "G_true = ([{0, 1}, {2, 3}], np.array([[0, 1],\n",
    "                                      [0, 0]]))\n",
    "G_baseline = ([{0, 2, 3}, {1}], np.array([[0., 1.],\n",
    "                                          [0., 0.]]))\n",
    "scoreCIC(G_true), scoreCIC(G_baseline)"
   ]
  },
  {
   "cell_type": "markdown",
   "metadata": {},
   "source": [
    "### Sachs"
   ]
  },
  {
   "cell_type": "code",
   "execution_count": 12,
   "metadata": {},
   "outputs": [],
   "source": [
    "data, scm = DataGen(0.1).get_sachs_data()\n",
    "(_, _, _, C_true, G_C_true) = scm\n",
    "G_true = (C_true, G_C_true)"
   ]
  },
  {
   "cell_type": "code",
   "execution_count": 13,
   "metadata": {},
   "outputs": [],
   "source": [
    "scoreCIC = ScoreCIC(data=data, dist=GaussianDistribution)"
   ]
  },
  {
   "cell_type": "code",
   "execution_count": 17,
   "metadata": {},
   "outputs": [
    {
     "data": {
      "text/plain": [
       "(7822.138565999087, 6750.969479012659, 15771.718441312089)"
      ]
     },
     "execution_count": 17,
     "metadata": {},
     "output_type": "execute_result"
    }
   ],
   "source": [
    "G_mcmc = ([{0, 1, 2, 3, 4, 8}, {5, 6, 7}], np.array([[0, 0], [0, 0]]))\n",
    "G_baseline = ([{0, 1, 2, 3, 4, 8, 9, 10}, {5, 6, 7}], np.array([[0., 0.],\n",
    "                                                                [1., 0.]]))\n",
    "scoreCIC(G_true), scoreCIC(G_mcmc), scoreCIC(G_baseline)"
   ]
  },
  {
   "cell_type": "markdown",
   "metadata": {},
   "source": [
    "### Housing"
   ]
  },
  {
   "cell_type": "code",
   "execution_count": 18,
   "metadata": {},
   "outputs": [],
   "source": [
    "data, scm = DataGen(0.1).load_housing_data()\n",
    "(_, _, _, C_true, G_C_true) = scm\n",
    "G_true = (C_true, G_C_true)"
   ]
  },
  {
   "cell_type": "code",
   "execution_count": 19,
   "metadata": {},
   "outputs": [],
   "source": [
    "scoreCIC = ScoreCIC(data=data, dist=GaussianDistribution)"
   ]
  },
  {
   "cell_type": "code",
   "execution_count": 20,
   "metadata": {},
   "outputs": [],
   "source": [
    "G_C_mcmc = np.zeros((9, 9))\n",
    "G_C_mcmc[0, 3] = 1\n",
    "G_C_mcmc[7, 8] = 1\n",
    "G_mcmc = ([{0, 11, 3}, {1}, {2}, {5}, {6}, {8}, {10}, {4, 9}, {7, 12}],\n",
    "          G_C_mcmc)\n",
    "G_baseline = ([{2}, {4, 6}, {11, 12, 5}, {8, 7}, {9}, {0}, {1}, {3}, {10}],\n",
    "              np.array([[0., 0., 0., 0., 0., 0., 0., 0., 0.,],\n",
    "                        [0., 0., 0., 0., 0., 0., 0., 0., 0.,],\n",
    "                        [1., 0., 0., 0., 0., 0., 0., 0., 0.,],\n",
    "                        [0., 1., 1., 0., 0., 0., 0., 0., 0.,],\n",
    "                        [1., 1., 1., 1., 0., 0., 1., 0., 0.,],\n",
    "                        [1., 1., 1., 0., 0., 0., 0., 1., 0.,],\n",
    "                        [0., 1., 1., 1., 0., 0., 0., 0., 1.,],\n",
    "                        [1., 1., 1., 1., 0., 0., 0., 0., 1.,],\n",
    "                        [1., 0., 1., 1., 0., 0., 0., 0., 0.,],]))"
   ]
  },
  {
   "cell_type": "code",
   "execution_count": null,
   "metadata": {},
   "outputs": [],
   "source": []
  }
 ],
 "metadata": {
  "kernelspec": {
   "display_name": "mcmc-jax",
   "language": "python",
   "name": "python3"
  },
  "language_info": {
   "codemirror_mode": {
    "name": "ipython",
    "version": 3
   },
   "file_extension": ".py",
   "mimetype": "text/x-python",
   "name": "python",
   "nbconvert_exporter": "python",
   "pygments_lexer": "ipython3",
   "version": "3.10.13"
  }
 },
 "nbformat": 4,
 "nbformat_minor": 2
}
